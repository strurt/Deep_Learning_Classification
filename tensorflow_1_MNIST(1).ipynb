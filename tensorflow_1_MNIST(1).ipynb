{
 "cells": [
  {
   "cell_type": "code",
   "execution_count": 56,
   "id": "63c80d58",
   "metadata": {},
   "outputs": [],
   "source": [
    "import tensorflow as tf\n"
   ]
  },
  {
   "cell_type": "code",
   "execution_count": 57,
   "id": "e377605a",
   "metadata": {},
   "outputs": [
    {
     "data": {
      "text/plain": [
       "'2.13.0'"
      ]
     },
     "execution_count": 57,
     "metadata": {},
     "output_type": "execute_result"
    }
   ],
   "source": [
    "tf.__version__"
   ]
  },
  {
   "cell_type": "code",
   "execution_count": 58,
   "id": "65566723",
   "metadata": {},
   "outputs": [],
   "source": [
    "df  = tf.keras.datasets.mnist"
   ]
  },
  {
   "cell_type": "code",
   "execution_count": 59,
   "id": "907d6da4",
   "metadata": {},
   "outputs": [],
   "source": [
    "(X_train,Y_train),(X_test,Y_test)= df.load_data()"
   ]
  },
  {
   "cell_type": "code",
   "execution_count": 60,
   "id": "3b423fd9",
   "metadata": {},
   "outputs": [],
   "source": [
    "import matplotlib.pyplot as plt "
   ]
  },
  {
   "cell_type": "code",
   "execution_count": 61,
   "id": "64d0ea1f",
   "metadata": {},
   "outputs": [
    {
     "data": {
      "image/png": "[encoded data removed]",
      "text/plain": [
       "<Figure size 640x480 with 1 Axes>"
      ]
     },
     "metadata": {},
     "output_type": "display_data"
    }
   ],
   "source": [
    "plt.imshow(X_train[0])\n",
    "plt.show()"
   ]
  },
  {
   "cell_type": "code",
   "execution_count": 62,
   "id": "4223b177",
   "metadata": {},
   "outputs": [
    {
     "data": {
      "image/png": "[encoded data removed]",
      "text/plain": [
       "<Figure size 640x480 with 1 Axes>"
      ]
     },
     "metadata": {},
     "output_type": "display_data"
    }
   ],
   "source": [
    "plt.imshow(X_train[1])\n",
    "plt.show()"
   ]
  },
  {
   "cell_type": "code",
   "execution_count": 63,
   "id": "b1da325f",
   "metadata": {},
   "outputs": [
    {
     "data": {
      "text/plain": [
       "5"
      ]
     },
     "execution_count": 63,
     "metadata": {},
     "output_type": "execute_result"
    }
   ],
   "source": [
    "Y_train[0]"
   ]
  },
  {
   "cell_type": "code",
   "execution_count": 64,
   "id": "e52d81f9",
   "metadata": {},
   "outputs": [
    {
     "data": {
      "text/plain": [
       "0"
      ]
     },
     "execution_count": 64,
     "metadata": {},
     "output_type": "execute_result"
    }
   ],
   "source": [
    "Y_train[1]"
   ]
  },
  {
   "cell_type": "code",
   "execution_count": 65,
   "id": "25016826",
   "metadata": {},
   "outputs": [
    {
     "data": {
      "text/plain": [
       "(60000, 28, 28)"
      ]
     },
     "execution_count": 65,
     "metadata": {},
     "output_type": "execute_result"
    }
   ],
   "source": [
    "X_train.shape"
   ]
  },
  {
   "cell_type": "code",
   "execution_count": 66,
   "id": "54849b86",
   "metadata": {},
   "outputs": [
    {
     "data": {
      "text/plain": [
       "(60000,)"
      ]
     },
     "execution_count": 66,
     "metadata": {},
     "output_type": "execute_result"
    }
   ],
   "source": [
    "Y_train.shape"
   ]
  },
  {
   "cell_type": "code",
   "execution_count": 67,
   "id": "428b28dd",
   "metadata": {},
   "outputs": [
    {
     "data": {
      "text/plain": [
       "(10000, 28, 28)"
      ]
     },
     "execution_count": 67,
     "metadata": {},
     "output_type": "execute_result"
    }
   ],
   "source": [
    "X_test.shape"
   ]
  },
  {
   "cell_type": "code",
   "execution_count": 68,
   "id": "dd89a03c",
   "metadata": {},
   "outputs": [],
   "source": [
    "X_train = X_train/ 255.0"
   ]
  },
  {
   "cell_type": "code",
   "execution_count": 69,
   "id": "56988cf4",
   "metadata": {},
   "outputs": [
    {
     "data": {
      "text/plain": [
       "(60000, 28, 28)"
      ]
     },
     "execution_count": 69,
     "metadata": {},
     "output_type": "execute_result"
    }
   ],
   "source": [
    "X_train.shape"
   ]
  },
  {
   "cell_type": "code",
   "execution_count": 70,
   "id": "4e6d5900",
   "metadata": {},
   "outputs": [],
   "source": [
    "X_test = X_test/255.0"
   ]
  },
  {
   "cell_type": "code",
   "execution_count": 71,
   "id": "5d879a11",
   "metadata": {},
   "outputs": [],
   "source": [
    "import numpy as np "
   ]
  },
  {
   "cell_type": "code",
   "execution_count": 72,
   "id": "0323cce0",
   "metadata": {},
   "outputs": [],
   "source": [
    "X_train = X_train.reshape(60000,28*28)\n",
    "X_test = X_test.reshape(10000,28*28)"
   ]
  },
  {
   "cell_type": "code",
   "execution_count": 73,
   "id": "299f902b",
   "metadata": {},
   "outputs": [
    {
     "data": {
      "text/plain": [
       "(60000, 784)"
      ]
     },
     "execution_count": 73,
     "metadata": {},
     "output_type": "execute_result"
    }
   ],
   "source": [
    "X_train.shape"
   ]
  },
  {
   "cell_type": "code",
   "execution_count": 74,
   "id": "78633490",
   "metadata": {},
   "outputs": [
    {
     "data": {
      "text/plain": [
       "array([0.        , 0.        , 0.        , 0.        , 0.        ,\n",
       "       0.        , 0.        , 0.        , 0.        , 0.        ,\n",
       "       0.        , 0.        , 0.        , 0.        , 0.        ,\n",
       "       0.        , 0.        , 0.        , 0.        , 0.        ,\n",
       "       0.        , 0.        , 0.        , 0.        , 0.        ,\n",
       "       0.        , 0.        , 0.        , 0.        , 0.        ,\n",
       "       0.        , 0.        , 0.        , 0.        , 0.        ,\n",
       "       0.        , 0.        , 0.        , 0.        , 0.        ,\n",
       "       0.        , 0.        , 0.        , 0.        , 0.        ,\n",
       "       0.        , 0.        , 0.        , 0.        , 0.        ,\n",
       "       0.        , 0.        , 0.        , 0.        , 0.        ,\n",
       "       0.        , 0.        , 0.        , 0.        , 0.        ,\n",
       "       0.        , 0.        , 0.        , 0.        , 0.        ,\n",
       "       0.        , 0.        , 0.        , 0.        , 0.        ,\n",
       "       0.        , 0.        , 0.        , 0.        , 0.        ,\n",
       "       0.        , 0.        , 0.        , 0.        , 0.        ,\n",
       "       0.        , 0.        , 0.        , 0.        , 0.        ,\n",
       "       0.        , 0.        , 0.        , 0.        , 0.        ,\n",
       "       0.        , 0.        , 0.        , 0.        , 0.        ,\n",
       "       0.        , 0.        , 0.        , 0.        , 0.        ,\n",
       "       0.        , 0.        , 0.        , 0.        , 0.        ,\n",
       "       0.        , 0.        , 0.        , 0.        , 0.        ,\n",
       "       0.        , 0.        , 0.        , 0.        , 0.        ,\n",
       "       0.        , 0.        , 0.        , 0.        , 0.        ,\n",
       "       0.        , 0.        , 0.        , 0.        , 0.        ,\n",
       "       0.        , 0.        , 0.2       , 0.62352941, 0.99215686,\n",
       "       0.62352941, 0.19607843, 0.        , 0.        , 0.        ,\n",
       "       0.        , 0.        , 0.        , 0.        , 0.        ,\n",
       "       0.        , 0.        , 0.        , 0.        , 0.        ,\n",
       "       0.        , 0.        , 0.        , 0.        , 0.        ,\n",
       "       0.        , 0.        , 0.        , 0.        , 0.18823529,\n",
       "       0.93333333, 0.98823529, 0.98823529, 0.98823529, 0.92941176,\n",
       "       0.        , 0.        , 0.        , 0.        , 0.        ,\n",
       "       0.        , 0.        , 0.        , 0.        , 0.        ,\n",
       "       0.        , 0.        , 0.        , 0.        , 0.        ,\n",
       "       0.        , 0.        , 0.        , 0.        , 0.        ,\n",
       "       0.        , 0.21176471, 0.89019608, 0.99215686, 0.98823529,\n",
       "       0.9372549 , 0.91372549, 0.98823529, 0.22352941, 0.02352941,\n",
       "       0.        , 0.        , 0.        , 0.        , 0.        ,\n",
       "       0.        , 0.        , 0.        , 0.        , 0.        ,\n",
       "       0.        , 0.        , 0.        , 0.        , 0.        ,\n",
       "       0.        , 0.        , 0.03921569, 0.23529412, 0.87843137,\n",
       "       0.98823529, 0.99215686, 0.98823529, 0.79215686, 0.32941176,\n",
       "       0.98823529, 0.99215686, 0.47843137, 0.        , 0.        ,\n",
       "       0.        , 0.        , 0.        , 0.        , 0.        ,\n",
       "       0.        , 0.        , 0.        , 0.        , 0.        ,\n",
       "       0.        , 0.        , 0.        , 0.        , 0.        ,\n",
       "       0.63921569, 0.98823529, 0.98823529, 0.98823529, 0.99215686,\n",
       "       0.98823529, 0.98823529, 0.37647059, 0.74117647, 0.99215686,\n",
       "       0.65490196, 0.        , 0.        , 0.        , 0.        ,\n",
       "       0.        , 0.        , 0.        , 0.        , 0.        ,\n",
       "       0.        , 0.        , 0.        , 0.        , 0.        ,\n",
       "       0.        , 0.        , 0.2       , 0.93333333, 0.99215686,\n",
       "       0.99215686, 0.74509804, 0.44705882, 0.99215686, 0.89411765,\n",
       "       0.18431373, 0.30980392, 1.        , 0.65882353, 0.        ,\n",
       "       0.        , 0.        , 0.        , 0.        , 0.        ,\n",
       "       0.        , 0.        , 0.        , 0.        , 0.        ,\n",
       "       0.        , 0.        , 0.        , 0.        , 0.18823529,\n",
       "       0.93333333, 0.98823529, 0.98823529, 0.70196078, 0.04705882,\n",
       "       0.29411765, 0.4745098 , 0.08235294, 0.        , 0.        ,\n",
       "       0.99215686, 0.95294118, 0.19607843, 0.        , 0.        ,\n",
       "       0.        , 0.        , 0.        , 0.        , 0.        ,\n",
       "       0.        , 0.        , 0.        , 0.        , 0.        ,\n",
       "       0.        , 0.14901961, 0.64705882, 0.99215686, 0.91372549,\n",
       "       0.81568627, 0.32941176, 0.        , 0.        , 0.        ,\n",
       "       0.        , 0.        , 0.        , 0.99215686, 0.98823529,\n",
       "       0.64705882, 0.        , 0.        , 0.        , 0.        ,\n",
       "       0.        , 0.        , 0.        , 0.        , 0.        ,\n",
       "       0.        , 0.        , 0.        , 0.02745098, 0.69803922,\n",
       "       0.98823529, 0.94117647, 0.27843137, 0.0745098 , 0.10980392,\n",
       "       0.        , 0.        , 0.        , 0.        , 0.        ,\n",
       "       0.        , 0.99215686, 0.98823529, 0.76470588, 0.        ,\n",
       "       0.        , 0.        , 0.        , 0.        , 0.        ,\n",
       "       0.        , 0.        , 0.        , 0.        , 0.        ,\n",
       "       0.        , 0.22352941, 0.98823529, 0.98823529, 0.24705882,\n",
       "       0.        , 0.        , 0.        , 0.        , 0.        ,\n",
       "       0.        , 0.        , 0.        , 0.        , 0.99215686,\n",
       "       0.98823529, 0.76470588, 0.        , 0.        , 0.        ,\n",
       "       0.        , 0.        , 0.        , 0.        , 0.        ,\n",
       "       0.        , 0.        , 0.        , 0.        , 0.77647059,\n",
       "       0.99215686, 0.74509804, 0.        , 0.        , 0.        ,\n",
       "       0.        , 0.        , 0.        , 0.        , 0.        ,\n",
       "       0.        , 0.        , 1.        , 0.99215686, 0.76862745,\n",
       "       0.        , 0.        , 0.        , 0.        , 0.        ,\n",
       "       0.        , 0.        , 0.        , 0.        , 0.        ,\n",
       "       0.        , 0.29803922, 0.96470588, 0.98823529, 0.43921569,\n",
       "       0.        , 0.        , 0.        , 0.        , 0.        ,\n",
       "       0.        , 0.        , 0.        , 0.        , 0.        ,\n",
       "       0.99215686, 0.98823529, 0.58039216, 0.        , 0.        ,\n",
       "       0.        , 0.        , 0.        , 0.        , 0.        ,\n",
       "       0.        , 0.        , 0.        , 0.        , 0.33333333,\n",
       "       0.98823529, 0.90196078, 0.09803922, 0.        , 0.        ,\n",
       "       0.        , 0.        , 0.        , 0.        , 0.        ,\n",
       "       0.        , 0.02745098, 0.52941176, 0.99215686, 0.72941176,\n",
       "       0.04705882, 0.        , 0.        , 0.        , 0.        ,\n",
       "       0.        , 0.        , 0.        , 0.        , 0.        ,\n",
       "       0.        , 0.        , 0.33333333, 0.98823529, 0.8745098 ,\n",
       "       0.        , 0.        , 0.        , 0.        , 0.        ,\n",
       "       0.        , 0.        , 0.        , 0.02745098, 0.51372549,\n",
       "       0.98823529, 0.88235294, 0.27843137, 0.        , 0.        ,\n",
       "       0.        , 0.        , 0.        , 0.        , 0.        ,\n",
       "       0.        , 0.        , 0.        , 0.        , 0.        ,\n",
       "       0.33333333, 0.98823529, 0.56862745, 0.        , 0.        ,\n",
       "       0.        , 0.        , 0.        , 0.        , 0.        ,\n",
       "       0.18823529, 0.64705882, 0.98823529, 0.67843137, 0.        ,\n",
       "       0.        , 0.        , 0.        , 0.        , 0.        ,\n",
       "       0.        , 0.        , 0.        , 0.        , 0.        ,\n",
       "       0.        , 0.        , 0.        , 0.3372549 , 0.99215686,\n",
       "       0.88235294, 0.        , 0.        , 0.        , 0.        ,\n",
       "       0.        , 0.        , 0.44705882, 0.93333333, 0.99215686,\n",
       "       0.63529412, 0.        , 0.        , 0.        , 0.        ,\n",
       "       0.        , 0.        , 0.        , 0.        , 0.        ,\n",
       "       0.        , 0.        , 0.        , 0.        , 0.        ,\n",
       "       0.        , 0.33333333, 0.98823529, 0.97647059, 0.57254902,\n",
       "       0.18823529, 0.11372549, 0.33333333, 0.69803922, 0.88235294,\n",
       "       0.99215686, 0.8745098 , 0.65490196, 0.21960784, 0.        ,\n",
       "       0.        , 0.        , 0.        , 0.        , 0.        ,\n",
       "       0.        , 0.        , 0.        , 0.        , 0.        ,\n",
       "       0.        , 0.        , 0.        , 0.        , 0.33333333,\n",
       "       0.98823529, 0.98823529, 0.98823529, 0.89803922, 0.84313725,\n",
       "       0.98823529, 0.98823529, 0.98823529, 0.76862745, 0.50980392,\n",
       "       0.        , 0.        , 0.        , 0.        , 0.        ,\n",
       "       0.        , 0.        , 0.        , 0.        , 0.        ,\n",
       "       0.        , 0.        , 0.        , 0.        , 0.        ,\n",
       "       0.        , 0.        , 0.10980392, 0.78039216, 0.98823529,\n",
       "       0.98823529, 0.99215686, 0.98823529, 0.98823529, 0.91372549,\n",
       "       0.56862745, 0.        , 0.        , 0.        , 0.        ,\n",
       "       0.        , 0.        , 0.        , 0.        , 0.        ,\n",
       "       0.        , 0.        , 0.        , 0.        , 0.        ,\n",
       "       0.        , 0.        , 0.        , 0.        , 0.        ,\n",
       "       0.        , 0.09803922, 0.50196078, 0.98823529, 0.99215686,\n",
       "       0.98823529, 0.55294118, 0.14509804, 0.        , 0.        ,\n",
       "       0.        , 0.        , 0.        , 0.        , 0.        ,\n",
       "       0.        , 0.        , 0.        , 0.        , 0.        ,\n",
       "       0.        , 0.        , 0.        , 0.        , 0.        ,\n",
       "       0.        , 0.        , 0.        , 0.        , 0.        ,\n",
       "       0.        , 0.        , 0.        , 0.        , 0.        ,\n",
       "       0.        , 0.        , 0.        , 0.        , 0.        ,\n",
       "       0.        , 0.        , 0.        , 0.        , 0.        ,\n",
       "       0.        , 0.        , 0.        , 0.        , 0.        ,\n",
       "       0.        , 0.        , 0.        , 0.        , 0.        ,\n",
       "       0.        , 0.        , 0.        , 0.        , 0.        ,\n",
       "       0.        , 0.        , 0.        , 0.        , 0.        ,\n",
       "       0.        , 0.        , 0.        , 0.        , 0.        ,\n",
       "       0.        , 0.        , 0.        , 0.        , 0.        ,\n",
       "       0.        , 0.        , 0.        , 0.        , 0.        ,\n",
       "       0.        , 0.        , 0.        , 0.        , 0.        ,\n",
       "       0.        , 0.        , 0.        , 0.        , 0.        ,\n",
       "       0.        , 0.        , 0.        , 0.        , 0.        ,\n",
       "       0.        , 0.        , 0.        , 0.        , 0.        ,\n",
       "       0.        , 0.        , 0.        , 0.        , 0.        ,\n",
       "       0.        , 0.        , 0.        , 0.        , 0.        ,\n",
       "       0.        , 0.        , 0.        , 0.        , 0.        ,\n",
       "       0.        , 0.        , 0.        , 0.        , 0.        ,\n",
       "       0.        , 0.        , 0.        , 0.        , 0.        ,\n",
       "       0.        , 0.        , 0.        , 0.        , 0.        ,\n",
       "       0.        , 0.        , 0.        , 0.        ])"
      ]
     },
     "execution_count": 74,
     "metadata": {},
     "output_type": "execute_result"
    }
   ],
   "source": [
    "X_train[1]"
   ]
  },
  {
   "cell_type": "code",
   "execution_count": 75,
   "id": "f9248294",
   "metadata": {},
   "outputs": [
    {
     "data": {
      "text/plain": [
       "array([5, 0, 4, 1, 9], dtype=uint8)"
      ]
     },
     "execution_count": 75,
     "metadata": {},
     "output_type": "execute_result"
    }
   ],
   "source": [
    "Y_train[:5]"
   ]
  },
  {
   "cell_type": "code",
   "execution_count": 76,
   "id": "ea216d1c",
   "metadata": {},
   "outputs": [],
   "source": [
    "Y_train = tf.keras.utils.to_categorical (\n",
    "    Y_train,num_classes = 10 , dtype = 'float32'\n",
    " )\n",
    "Y_test  = tf.keras.utils.to_categorical (\n",
    "    Y_test,num_classes = 10 , dtype = 'float32'\n",
    " )\n"
   ]
  },
  {
   "cell_type": "code",
   "execution_count": 77,
   "id": "6496daa2",
   "metadata": {},
   "outputs": [
    {
     "data": {
      "text/plain": [
       "array([[0., 0., 0., 0., 0., 1., 0., 0., 0., 0.],\n",
       "       [1., 0., 0., 0., 0., 0., 0., 0., 0., 0.],\n",
       "       [0., 0., 0., 0., 1., 0., 0., 0., 0., 0.],\n",
       "       [0., 1., 0., 0., 0., 0., 0., 0., 0., 0.],\n",
       "       [0., 0., 0., 0., 0., 0., 0., 0., 0., 1.]], dtype=float32)"
      ]
     },
     "execution_count": 77,
     "metadata": {},
     "output_type": "execute_result"
    }
   ],
   "source": [
    "Y_train[:5]"
   ]
  },
  {
   "cell_type": "code",
   "execution_count": 78,
   "id": "ef3bc79e",
   "metadata": {},
   "outputs": [],
   "source": [
    "from tensorflow.keras import Sequential \n",
    "from tensorflow.keras.layers import Dense "
   ]
  },
  {
   "cell_type": "code",
   "execution_count": 79,
   "id": "8d733d47",
   "metadata": {},
   "outputs": [],
   "source": [
    "model = Sequential()\n",
    "model.add(Dense(units = 1 , activation = 'sigmoid', input_shape = (784,), name = 'dense'))\n",
    "model.add(Dense(units = 10 , activation = 'softmax'))"
   ]
  },
  {
   "cell_type": "code",
   "execution_count": 80,
   "id": "bc16fc35",
   "metadata": {},
   "outputs": [
    {
     "name": "stdout",
     "output_type": "stream",
     "text": [
      "Model: \"sequential_5\"\n",
      "_________________________________________________________________\n",
      " Layer (type)                Output Shape              Param #   \n",
      "=================================================================\n",
      " dense (Dense)               (None, 1)                 785       \n",
      "                                                                 \n",
      " dense_4 (Dense)             (None, 10)                20        \n",
      "                                                                 \n",
      "=================================================================\n",
      "Total params: 805 (3.14 KB)\n",
      "Trainable params: 805 (3.14 KB)\n",
      "Non-trainable params: 0 (0.00 Byte)\n",
      "_________________________________________________________________\n"
     ]
    }
   ],
   "source": [
    "model.summary()"
   ]
  },
  {
   "cell_type": "code",
   "execution_count": 81,
   "id": "fb89db8f",
   "metadata": {},
   "outputs": [],
   "source": [
    " model.compile(optimizer = \"SGD\", loss = 'categorical_crossentropy',metrics = ['accuracy'])"
   ]
  },
  {
   "cell_type": "code",
   "execution_count": 82,
   "id": "700e46d6",
   "metadata": {
    "scrolled": true
   },
   "outputs": [
    {
     "name": "stdout",
     "output_type": "stream",
     "text": [
      "Epoch 1/50\n",
      "469/469 [==============================] - 2s 3ms/step - loss: 2.2930 - accuracy: 0.1086 - val_loss: 2.2790 - val_accuracy: 0.1135\n",
      "Epoch 2/50\n",
      "469/469 [==============================] - 1s 2ms/step - loss: 2.2673 - accuracy: 0.1376 - val_loss: 2.2544 - val_accuracy: 0.1674\n",
      "Epoch 3/50\n",
      "469/469 [==============================] - 1s 2ms/step - loss: 2.2442 - accuracy: 0.2000 - val_loss: 2.2318 - val_accuracy: 0.2198\n",
      "Epoch 4/50\n",
      "469/469 [==============================] - 1s 2ms/step - loss: 2.2228 - accuracy: 0.2234 - val_loss: 2.2107 - val_accuracy: 0.2264\n",
      "Epoch 5/50\n",
      "469/469 [==============================] - 1s 2ms/step - loss: 2.2026 - accuracy: 0.2269 - val_loss: 2.1907 - val_accuracy: 0.2294\n",
      "Epoch 6/50\n",
      "469/469 [==============================] - 1s 2ms/step - loss: 2.1833 - accuracy: 0.2270 - val_loss: 2.1716 - val_accuracy: 0.2278\n",
      "Epoch 7/50\n",
      "469/469 [==============================] - 1s 2ms/step - loss: 2.1649 - accuracy: 0.2264 - val_loss: 2.1534 - val_accuracy: 0.2267\n",
      "Epoch 8/50\n",
      "469/469 [==============================] - 1s 2ms/step - loss: 2.1474 - accuracy: 0.2257 - val_loss: 2.1359 - val_accuracy: 0.2270\n",
      "Epoch 9/50\n",
      "469/469 [==============================] - 1s 2ms/step - loss: 2.1307 - accuracy: 0.2262 - val_loss: 2.1193 - val_accuracy: 0.2275\n",
      "Epoch 10/50\n",
      "469/469 [==============================] - 1s 2ms/step - loss: 2.1147 - accuracy: 0.2270 - val_loss: 2.1033 - val_accuracy: 0.2270\n",
      "Epoch 11/50\n",
      "469/469 [==============================] - 1s 2ms/step - loss: 2.0995 - accuracy: 0.2283 - val_loss: 2.0879 - val_accuracy: 0.2284\n",
      "Epoch 12/50\n",
      "469/469 [==============================] - 1s 2ms/step - loss: 2.0848 - accuracy: 0.2295 - val_loss: 2.0732 - val_accuracy: 0.2301\n",
      "Epoch 13/50\n",
      "469/469 [==============================] - 1s 2ms/step - loss: 2.0707 - accuracy: 0.2313 - val_loss: 2.0590 - val_accuracy: 0.2321\n",
      "Epoch 14/50\n",
      "469/469 [==============================] - 1s 2ms/step - loss: 2.0572 - accuracy: 0.2329 - val_loss: 2.0453 - val_accuracy: 0.2334\n",
      "Epoch 15/50\n",
      "469/469 [==============================] - 1s 2ms/step - loss: 2.0442 - accuracy: 0.2347 - val_loss: 2.0322 - val_accuracy: 0.2346\n",
      "Epoch 16/50\n",
      "469/469 [==============================] - 1s 2ms/step - loss: 2.0318 - accuracy: 0.2362 - val_loss: 2.0196 - val_accuracy: 0.2349\n",
      "Epoch 17/50\n",
      "469/469 [==============================] - 1s 2ms/step - loss: 2.0200 - accuracy: 0.2372 - val_loss: 2.0076 - val_accuracy: 0.2356\n",
      "Epoch 18/50\n",
      "469/469 [==============================] - 1s 2ms/step - loss: 2.0087 - accuracy: 0.2379 - val_loss: 1.9962 - val_accuracy: 0.2372\n",
      "Epoch 19/50\n",
      "469/469 [==============================] - 1s 2ms/step - loss: 1.9980 - accuracy: 0.2397 - val_loss: 1.9854 - val_accuracy: 0.2393\n",
      "Epoch 20/50\n",
      "469/469 [==============================] - 1s 2ms/step - loss: 1.9878 - accuracy: 0.2399 - val_loss: 1.9751 - val_accuracy: 0.2402\n",
      "Epoch 21/50\n",
      "469/469 [==============================] - 1s 2ms/step - loss: 1.9782 - accuracy: 0.2414 - val_loss: 1.9654 - val_accuracy: 0.2422\n",
      "Epoch 22/50\n",
      "469/469 [==============================] - 1s 2ms/step - loss: 1.9691 - accuracy: 0.2427 - val_loss: 1.9563 - val_accuracy: 0.2429\n",
      "Epoch 23/50\n",
      "469/469 [==============================] - 1s 2ms/step - loss: 1.9606 - accuracy: 0.2429 - val_loss: 1.9476 - val_accuracy: 0.2447\n",
      "Epoch 24/50\n",
      "469/469 [==============================] - 1s 2ms/step - loss: 1.9525 - accuracy: 0.2439 - val_loss: 1.9395 - val_accuracy: 0.2453\n",
      "Epoch 25/50\n",
      "469/469 [==============================] - 1s 2ms/step - loss: 1.9449 - accuracy: 0.2446 - val_loss: 1.9319 - val_accuracy: 0.2461\n",
      "Epoch 26/50\n",
      "469/469 [==============================] - 1s 2ms/step - loss: 1.9378 - accuracy: 0.2458 - val_loss: 1.9247 - val_accuracy: 0.2455\n",
      "Epoch 27/50\n",
      "469/469 [==============================] - 1s 2ms/step - loss: 1.9311 - accuracy: 0.2460 - val_loss: 1.9180 - val_accuracy: 0.2465\n",
      "Epoch 28/50\n",
      "469/469 [==============================] - 1s 2ms/step - loss: 1.9248 - accuracy: 0.2466 - val_loss: 1.9116 - val_accuracy: 0.2467\n",
      "Epoch 29/50\n",
      "469/469 [==============================] - 1s 2ms/step - loss: 1.9189 - accuracy: 0.2471 - val_loss: 1.9057 - val_accuracy: 0.2476\n",
      "Epoch 30/50\n",
      "469/469 [==============================] - 1s 2ms/step - loss: 1.9133 - accuracy: 0.2469 - val_loss: 1.9000 - val_accuracy: 0.2478\n",
      "Epoch 31/50\n",
      "469/469 [==============================] - 1s 2ms/step - loss: 1.9081 - accuracy: 0.2475 - val_loss: 1.8947 - val_accuracy: 0.2482\n",
      "Epoch 32/50\n",
      "469/469 [==============================] - 1s 2ms/step - loss: 1.9031 - accuracy: 0.2476 - val_loss: 1.8897 - val_accuracy: 0.2475\n",
      "Epoch 33/50\n",
      "469/469 [==============================] - 1s 2ms/step - loss: 1.8985 - accuracy: 0.2484 - val_loss: 1.8851 - val_accuracy: 0.2475\n",
      "Epoch 34/50\n",
      "469/469 [==============================] - 1s 2ms/step - loss: 1.8941 - accuracy: 0.2478 - val_loss: 1.8806 - val_accuracy: 0.2482\n",
      "Epoch 35/50\n",
      "469/469 [==============================] - 1s 2ms/step - loss: 1.8899 - accuracy: 0.2486 - val_loss: 1.8764 - val_accuracy: 0.2487\n",
      "Epoch 36/50\n",
      "469/469 [==============================] - 1s 2ms/step - loss: 1.8859 - accuracy: 0.2501 - val_loss: 1.8724 - val_accuracy: 0.2485\n",
      "Epoch 37/50\n",
      "469/469 [==============================] - 1s 2ms/step - loss: 1.8822 - accuracy: 0.2500 - val_loss: 1.8686 - val_accuracy: 0.2483\n",
      "Epoch 38/50\n",
      "469/469 [==============================] - 1s 2ms/step - loss: 1.8786 - accuracy: 0.2501 - val_loss: 1.8650 - val_accuracy: 0.2489\n",
      "Epoch 39/50\n",
      "469/469 [==============================] - 1s 2ms/step - loss: 1.8752 - accuracy: 0.2504 - val_loss: 1.8615 - val_accuracy: 0.2492\n",
      "Epoch 40/50\n",
      "469/469 [==============================] - 1s 2ms/step - loss: 1.8720 - accuracy: 0.2511 - val_loss: 1.8583 - val_accuracy: 0.2500\n",
      "Epoch 41/50\n",
      "469/469 [==============================] - 1s 2ms/step - loss: 1.8689 - accuracy: 0.2508 - val_loss: 1.8552 - val_accuracy: 0.2505\n",
      "Epoch 42/50\n",
      "469/469 [==============================] - 1s 2ms/step - loss: 1.8660 - accuracy: 0.2527 - val_loss: 1.8523 - val_accuracy: 0.2497\n",
      "Epoch 43/50\n",
      "469/469 [==============================] - 1s 2ms/step - loss: 1.8632 - accuracy: 0.2524 - val_loss: 1.8495 - val_accuracy: 0.2504\n",
      "Epoch 44/50\n",
      "469/469 [==============================] - 1s 2ms/step - loss: 1.8605 - accuracy: 0.2521 - val_loss: 1.8468 - val_accuracy: 0.2513\n",
      "Epoch 45/50\n",
      "469/469 [==============================] - 1s 2ms/step - loss: 1.8579 - accuracy: 0.2527 - val_loss: 1.8442 - val_accuracy: 0.2526\n",
      "Epoch 46/50\n",
      "469/469 [==============================] - 1s 2ms/step - loss: 1.8555 - accuracy: 0.2542 - val_loss: 1.8417 - val_accuracy: 0.2542\n",
      "Epoch 47/50\n",
      "469/469 [==============================] - 1s 2ms/step - loss: 1.8531 - accuracy: 0.2552 - val_loss: 1.8393 - val_accuracy: 0.2545\n",
      "Epoch 48/50\n",
      "469/469 [==============================] - 1s 2ms/step - loss: 1.8508 - accuracy: 0.2556 - val_loss: 1.8370 - val_accuracy: 0.2565\n",
      "Epoch 49/50\n",
      "469/469 [==============================] - 1s 2ms/step - loss: 1.8486 - accuracy: 0.2566 - val_loss: 1.8348 - val_accuracy: 0.2568\n",
      "Epoch 50/50\n",
      "469/469 [==============================] - 1s 2ms/step - loss: 1.8464 - accuracy: 0.2572 - val_loss: 1.8327 - val_accuracy: 0.2574\n"
     ]
    }
   ],
   "source": [
    "history = model.fit(X_train,Y_train,validation_data = (X_test, Y_test),batch_size = 128 , epochs = 50)"
   ]
  },
  {
   "cell_type": "code",
   "execution_count": 83,
   "id": "f907603d",
   "metadata": {},
   "outputs": [],
   "source": [
    "from tensorflow.keras.layers import Dropout"
   ]
  },
  {
   "cell_type": "code",
   "execution_count": 87,
   "id": "edb01b04",
   "metadata": {},
   "outputs": [],
   "source": [
    "model = Sequential()\n",
    "model.add(Dense(units = 10 , activation = 'relu', input_shape = (784,), name = 'dense'))\n",
    "model.add(Dense(units = 10 , activation = 'softmax'))\n",
    "model.add(Dense(units = 10 , activation = 'softmax'))\n",
    "model.add(Dropout(rate = 0.2))\n",
    "model.add(Dense(units = 10, activation = 'softmax'))\n"
   ]
  },
  {
   "cell_type": "code",
   "execution_count": 88,
   "id": "566e87f0",
   "metadata": {},
   "outputs": [],
   "source": [
    " model.compile(optimizer = \"adam\", loss = 'categorical_crossentropy',metrics = ['accuracy'])"
   ]
  },
  {
   "cell_type": "code",
   "execution_count": 89,
   "id": "0048538c",
   "metadata": {},
   "outputs": [
    {
     "name": "stdout",
     "output_type": "stream",
     "text": [
      "Epoch 1/100\n",
      "469/469 [==============================] - 5s 6ms/step - loss: 2.1933 - accuracy: 0.2992 - val_loss: 2.0139 - val_accuracy: 0.4686\n",
      "Epoch 2/100\n",
      "469/469 [==============================] - 4s 8ms/step - loss: 1.8010 - accuracy: 0.3959 - val_loss: 1.5599 - val_accuracy: 0.4805\n",
      "Epoch 3/100\n",
      "469/469 [==============================] - 4s 8ms/step - loss: 1.5189 - accuracy: 0.4057 - val_loss: 1.3405 - val_accuracy: 0.4848\n",
      "Epoch 4/100\n",
      "469/469 [==============================] - 4s 8ms/step - loss: 1.3505 - accuracy: 0.4343 - val_loss: 1.1734 - val_accuracy: 0.4837\n",
      "Epoch 5/100\n",
      "469/469 [==============================] - 3s 5ms/step - loss: 1.2569 - accuracy: 0.4430 - val_loss: 1.1106 - val_accuracy: 0.4811\n",
      "Epoch 6/100\n",
      "469/469 [==============================] - 3s 7ms/step - loss: 1.1972 - accuracy: 0.4529 - val_loss: 1.0671 - val_accuracy: 0.4888\n",
      "Epoch 7/100\n",
      "469/469 [==============================] - 3s 6ms/step - loss: 1.1508 - accuracy: 0.4625 - val_loss: 1.0417 - val_accuracy: 0.5018\n",
      "Epoch 8/100\n",
      "469/469 [==============================] - 3s 7ms/step - loss: 1.1243 - accuracy: 0.4670 - val_loss: 1.0231 - val_accuracy: 0.5117\n",
      "Epoch 9/100\n",
      "469/469 [==============================] - 3s 7ms/step - loss: 1.1047 - accuracy: 0.4774 - val_loss: 1.0088 - val_accuracy: 0.5296\n",
      "Epoch 10/100\n",
      "469/469 [==============================] - 3s 7ms/step - loss: 1.0882 - accuracy: 0.4962 - val_loss: 0.9877 - val_accuracy: 0.5600\n",
      "Epoch 11/100\n",
      "469/469 [==============================] - 3s 7ms/step - loss: 1.0534 - accuracy: 0.5462 - val_loss: 0.9365 - val_accuracy: 0.6098\n",
      "Epoch 12/100\n",
      "469/469 [==============================] - 4s 7ms/step - loss: 1.0015 - accuracy: 0.5799 - val_loss: 0.8828 - val_accuracy: 0.6625\n",
      "Epoch 13/100\n",
      "469/469 [==============================] - 3s 7ms/step - loss: 0.9559 - accuracy: 0.5966 - val_loss: 0.8314 - val_accuracy: 0.6787\n",
      "Epoch 14/100\n",
      "469/469 [==============================] - 3s 6ms/step - loss: 0.9194 - accuracy: 0.6104 - val_loss: 0.7900 - val_accuracy: 0.6943\n",
      "Epoch 15/100\n",
      "469/469 [==============================] - 3s 7ms/step - loss: 0.8925 - accuracy: 0.6240 - val_loss: 0.7533 - val_accuracy: 0.7134\n",
      "Epoch 16/100\n",
      "469/469 [==============================] - 3s 7ms/step - loss: 0.8663 - accuracy: 0.6389 - val_loss: 0.7204 - val_accuracy: 0.7336\n",
      "Epoch 17/100\n",
      "469/469 [==============================] - 3s 7ms/step - loss: 0.8414 - accuracy: 0.6482 - val_loss: 0.6847 - val_accuracy: 0.7475\n",
      "Epoch 18/100\n",
      "469/469 [==============================] - 3s 7ms/step - loss: 0.8083 - accuracy: 0.6570 - val_loss: 0.6532 - val_accuracy: 0.7673\n",
      "Epoch 19/100\n",
      "469/469 [==============================] - 3s 7ms/step - loss: 0.7847 - accuracy: 0.6660 - val_loss: 0.6182 - val_accuracy: 0.7934\n",
      "Epoch 20/100\n",
      "469/469 [==============================] - 3s 7ms/step - loss: 0.7641 - accuracy: 0.6863 - val_loss: 0.5875 - val_accuracy: 0.8193\n",
      "Epoch 21/100\n",
      "469/469 [==============================] - 4s 8ms/step - loss: 0.7331 - accuracy: 0.7085 - val_loss: 0.5497 - val_accuracy: 0.8317\n",
      "Epoch 22/100\n",
      "469/469 [==============================] - 3s 7ms/step - loss: 0.7075 - accuracy: 0.7185 - val_loss: 0.5155 - val_accuracy: 0.8439\n",
      "Epoch 23/100\n",
      "469/469 [==============================] - 3s 7ms/step - loss: 0.6856 - accuracy: 0.7262 - val_loss: 0.4952 - val_accuracy: 0.8475\n",
      "Epoch 24/100\n",
      "469/469 [==============================] - 3s 5ms/step - loss: 0.6616 - accuracy: 0.7401 - val_loss: 0.4764 - val_accuracy: 0.8514\n",
      "Epoch 25/100\n",
      "469/469 [==============================] - 3s 6ms/step - loss: 0.6518 - accuracy: 0.7534 - val_loss: 0.4691 - val_accuracy: 0.8510\n",
      "Epoch 26/100\n",
      "469/469 [==============================] - 3s 7ms/step - loss: 0.6435 - accuracy: 0.7585 - val_loss: 0.4641 - val_accuracy: 0.8524\n",
      "Epoch 27/100\n",
      "469/469 [==============================] - 3s 7ms/step - loss: 0.6305 - accuracy: 0.7661 - val_loss: 0.4498 - val_accuracy: 0.8548\n",
      "Epoch 28/100\n",
      "469/469 [==============================] - 3s 7ms/step - loss: 0.6234 - accuracy: 0.7692 - val_loss: 0.4424 - val_accuracy: 0.8553\n",
      "Epoch 29/100\n",
      "469/469 [==============================] - 3s 7ms/step - loss: 0.6144 - accuracy: 0.7760 - val_loss: 0.4371 - val_accuracy: 0.8575\n",
      "Epoch 30/100\n",
      "469/469 [==============================] - 4s 8ms/step - loss: 0.6084 - accuracy: 0.7797 - val_loss: 0.4381 - val_accuracy: 0.8543\n",
      "Epoch 31/100\n",
      "469/469 [==============================] - 3s 7ms/step - loss: 0.6007 - accuracy: 0.7838 - val_loss: 0.4293 - val_accuracy: 0.8636\n",
      "Epoch 32/100\n",
      "469/469 [==============================] - 3s 7ms/step - loss: 0.5914 - accuracy: 0.7898 - val_loss: 0.4307 - val_accuracy: 0.8635\n",
      "Epoch 33/100\n",
      "469/469 [==============================] - 4s 8ms/step - loss: 0.5791 - accuracy: 0.7977 - val_loss: 0.4199 - val_accuracy: 0.8675\n",
      "Epoch 34/100\n",
      "469/469 [==============================] - 3s 7ms/step - loss: 0.5813 - accuracy: 0.8020 - val_loss: 0.4135 - val_accuracy: 0.8680\n",
      "Epoch 35/100\n",
      "469/469 [==============================] - 2s 5ms/step - loss: 0.5792 - accuracy: 0.8100 - val_loss: 0.4141 - val_accuracy: 0.8791\n",
      "Epoch 36/100\n",
      "469/469 [==============================] - 3s 6ms/step - loss: 0.5701 - accuracy: 0.8174 - val_loss: 0.4118 - val_accuracy: 0.8913\n",
      "Epoch 37/100\n",
      "469/469 [==============================] - 4s 8ms/step - loss: 0.5626 - accuracy: 0.8230 - val_loss: 0.3998 - val_accuracy: 0.8951\n",
      "Epoch 38/100\n",
      "469/469 [==============================] - 4s 8ms/step - loss: 0.5533 - accuracy: 0.8274 - val_loss: 0.3998 - val_accuracy: 0.8975\n",
      "Epoch 39/100\n",
      "469/469 [==============================] - 3s 7ms/step - loss: 0.5433 - accuracy: 0.8321 - val_loss: 0.3877 - val_accuracy: 0.9001\n",
      "Epoch 40/100\n",
      "469/469 [==============================] - 3s 7ms/step - loss: 0.5419 - accuracy: 0.8347 - val_loss: 0.3836 - val_accuracy: 0.9016\n",
      "Epoch 41/100\n",
      "469/469 [==============================] - 3s 7ms/step - loss: 0.5348 - accuracy: 0.8379 - val_loss: 0.3724 - val_accuracy: 0.9058\n",
      "Epoch 42/100\n",
      "469/469 [==============================] - 3s 7ms/step - loss: 0.5272 - accuracy: 0.8423 - val_loss: 0.3750 - val_accuracy: 0.9078\n",
      "Epoch 43/100\n",
      "469/469 [==============================] - 3s 7ms/step - loss: 0.5178 - accuracy: 0.8464 - val_loss: 0.3629 - val_accuracy: 0.9105\n",
      "Epoch 44/100\n",
      "469/469 [==============================] - 3s 7ms/step - loss: 0.5091 - accuracy: 0.8476 - val_loss: 0.3672 - val_accuracy: 0.9085\n",
      "Epoch 45/100\n",
      "469/469 [==============================] - 2s 5ms/step - loss: 0.5110 - accuracy: 0.8491 - val_loss: 0.3596 - val_accuracy: 0.9104\n",
      "Epoch 46/100\n",
      "469/469 [==============================] - 3s 7ms/step - loss: 0.5016 - accuracy: 0.8518 - val_loss: 0.3555 - val_accuracy: 0.9113\n",
      "Epoch 47/100\n",
      "469/469 [==============================] - 3s 7ms/step - loss: 0.4947 - accuracy: 0.8548 - val_loss: 0.3580 - val_accuracy: 0.9117\n",
      "Epoch 48/100\n",
      "469/469 [==============================] - 3s 7ms/step - loss: 0.4908 - accuracy: 0.8560 - val_loss: 0.3483 - val_accuracy: 0.9156\n",
      "Epoch 49/100\n",
      "469/469 [==============================] - 3s 7ms/step - loss: 0.4920 - accuracy: 0.8562 - val_loss: 0.3618 - val_accuracy: 0.9119\n",
      "Epoch 50/100\n",
      "469/469 [==============================] - 3s 6ms/step - loss: 0.4850 - accuracy: 0.8596 - val_loss: 0.3391 - val_accuracy: 0.9136\n",
      "Epoch 51/100\n",
      "469/469 [==============================] - 3s 7ms/step - loss: 0.4839 - accuracy: 0.8594 - val_loss: 0.3445 - val_accuracy: 0.9145\n",
      "Epoch 52/100\n",
      "469/469 [==============================] - 3s 7ms/step - loss: 0.4727 - accuracy: 0.8638 - val_loss: 0.3350 - val_accuracy: 0.9173\n",
      "Epoch 53/100\n",
      "469/469 [==============================] - 3s 7ms/step - loss: 0.4728 - accuracy: 0.8638 - val_loss: 0.3323 - val_accuracy: 0.9185\n",
      "Epoch 54/100\n",
      "469/469 [==============================] - 3s 7ms/step - loss: 0.4682 - accuracy: 0.8646 - val_loss: 0.3316 - val_accuracy: 0.9201\n",
      "Epoch 55/100\n",
      "469/469 [==============================] - 3s 7ms/step - loss: 0.4670 - accuracy: 0.8665 - val_loss: 0.3323 - val_accuracy: 0.9190\n",
      "Epoch 56/100\n",
      "469/469 [==============================] - 3s 7ms/step - loss: 0.4586 - accuracy: 0.8678 - val_loss: 0.3338 - val_accuracy: 0.9182\n",
      "Epoch 57/100\n",
      "469/469 [==============================] - 3s 7ms/step - loss: 0.4604 - accuracy: 0.8662 - val_loss: 0.3267 - val_accuracy: 0.9212\n",
      "Epoch 58/100\n",
      "469/469 [==============================] - 3s 7ms/step - loss: 0.4576 - accuracy: 0.8691 - val_loss: 0.3302 - val_accuracy: 0.9171\n",
      "Epoch 59/100\n",
      "469/469 [==============================] - 3s 7ms/step - loss: 0.4530 - accuracy: 0.8691 - val_loss: 0.3244 - val_accuracy: 0.9235\n",
      "Epoch 60/100\n",
      "469/469 [==============================] - 3s 7ms/step - loss: 0.4527 - accuracy: 0.8706 - val_loss: 0.3308 - val_accuracy: 0.9205\n",
      "Epoch 61/100\n",
      "469/469 [==============================] - 4s 8ms/step - loss: 0.4453 - accuracy: 0.8721 - val_loss: 0.3271 - val_accuracy: 0.9210\n",
      "Epoch 62/100\n",
      "469/469 [==============================] - 3s 7ms/step - loss: 0.4463 - accuracy: 0.8731 - val_loss: 0.3303 - val_accuracy: 0.9212\n",
      "Epoch 63/100\n",
      "469/469 [==============================] - 3s 6ms/step - loss: 0.4404 - accuracy: 0.8745 - val_loss: 0.3242 - val_accuracy: 0.9208\n",
      "Epoch 64/100\n",
      "469/469 [==============================] - 3s 6ms/step - loss: 0.4374 - accuracy: 0.8751 - val_loss: 0.3226 - val_accuracy: 0.9207\n",
      "Epoch 65/100\n",
      "469/469 [==============================] - 2s 5ms/step - loss: 0.4343 - accuracy: 0.8773 - val_loss: 0.3268 - val_accuracy: 0.9213\n",
      "Epoch 66/100\n",
      "469/469 [==============================] - 2s 5ms/step - loss: 0.4327 - accuracy: 0.8767 - val_loss: 0.3261 - val_accuracy: 0.9207\n",
      "Epoch 67/100\n",
      "469/469 [==============================] - 4s 8ms/step - loss: 0.4307 - accuracy: 0.8775 - val_loss: 0.3284 - val_accuracy: 0.9200\n",
      "Epoch 68/100\n",
      "469/469 [==============================] - 4s 8ms/step - loss: 0.4311 - accuracy: 0.8777 - val_loss: 0.3287 - val_accuracy: 0.9197\n",
      "Epoch 69/100\n",
      "469/469 [==============================] - 3s 6ms/step - loss: 0.4266 - accuracy: 0.8797 - val_loss: 0.3275 - val_accuracy: 0.9207\n",
      "Epoch 70/100\n",
      "469/469 [==============================] - 3s 5ms/step - loss: 0.4253 - accuracy: 0.8806 - val_loss: 0.3259 - val_accuracy: 0.9198\n",
      "Epoch 71/100\n",
      "469/469 [==============================] - 3s 7ms/step - loss: 0.4219 - accuracy: 0.8815 - val_loss: 0.3309 - val_accuracy: 0.9202\n",
      "Epoch 72/100\n",
      "469/469 [==============================] - 3s 6ms/step - loss: 0.4240 - accuracy: 0.8807 - val_loss: 0.3217 - val_accuracy: 0.9216\n",
      "Epoch 73/100\n",
      "469/469 [==============================] - 3s 5ms/step - loss: 0.4166 - accuracy: 0.8829 - val_loss: 0.3264 - val_accuracy: 0.9222\n",
      "Epoch 74/100\n",
      "469/469 [==============================] - 4s 9ms/step - loss: 0.4201 - accuracy: 0.8844 - val_loss: 0.3274 - val_accuracy: 0.9197\n",
      "Epoch 75/100\n",
      "469/469 [==============================] - 3s 6ms/step - loss: 0.4204 - accuracy: 0.8813 - val_loss: 0.3333 - val_accuracy: 0.9191\n",
      "Epoch 76/100\n",
      "469/469 [==============================] - 3s 6ms/step - loss: 0.4159 - accuracy: 0.8843 - val_loss: 0.3281 - val_accuracy: 0.9181\n",
      "Epoch 77/100\n",
      "469/469 [==============================] - 2s 5ms/step - loss: 0.4156 - accuracy: 0.8842 - val_loss: 0.3296 - val_accuracy: 0.9204\n",
      "Epoch 78/100\n",
      "469/469 [==============================] - 4s 8ms/step - loss: 0.4116 - accuracy: 0.8875 - val_loss: 0.3402 - val_accuracy: 0.9181\n",
      "Epoch 79/100\n",
      "469/469 [==============================] - 3s 7ms/step - loss: 0.4148 - accuracy: 0.8858 - val_loss: 0.3278 - val_accuracy: 0.9215\n",
      "Epoch 80/100\n",
      "469/469 [==============================] - 3s 5ms/step - loss: 0.4126 - accuracy: 0.8856 - val_loss: 0.3324 - val_accuracy: 0.9191\n",
      "Epoch 81/100\n",
      "469/469 [==============================] - 3s 6ms/step - loss: 0.4113 - accuracy: 0.8866 - val_loss: 0.3282 - val_accuracy: 0.9211\n",
      "Epoch 82/100\n",
      "469/469 [==============================] - 2s 5ms/step - loss: 0.4055 - accuracy: 0.8873 - val_loss: 0.3271 - val_accuracy: 0.9225\n",
      "Epoch 83/100\n",
      "469/469 [==============================] - 3s 5ms/step - loss: 0.4069 - accuracy: 0.8866 - val_loss: 0.3316 - val_accuracy: 0.9202\n",
      "Epoch 84/100\n",
      "469/469 [==============================] - 3s 7ms/step - loss: 0.4086 - accuracy: 0.8881 - val_loss: 0.3269 - val_accuracy: 0.9217\n",
      "Epoch 85/100\n",
      "469/469 [==============================] - 3s 7ms/step - loss: 0.4066 - accuracy: 0.8869 - val_loss: 0.3318 - val_accuracy: 0.9227\n",
      "Epoch 86/100\n",
      "469/469 [==============================] - 3s 6ms/step - loss: 0.4012 - accuracy: 0.8900 - val_loss: 0.3294 - val_accuracy: 0.9202\n",
      "Epoch 87/100\n",
      "469/469 [==============================] - 3s 5ms/step - loss: 0.4020 - accuracy: 0.8883 - val_loss: 0.3262 - val_accuracy: 0.9212\n",
      "Epoch 88/100\n",
      "469/469 [==============================] - 4s 8ms/step - loss: 0.4045 - accuracy: 0.8877 - val_loss: 0.3424 - val_accuracy: 0.9176\n",
      "Epoch 89/100\n",
      "469/469 [==============================] - 3s 7ms/step - loss: 0.4036 - accuracy: 0.8872 - val_loss: 0.3299 - val_accuracy: 0.9209\n",
      "Epoch 90/100\n",
      "469/469 [==============================] - 3s 7ms/step - loss: 0.3993 - accuracy: 0.8897 - val_loss: 0.3336 - val_accuracy: 0.9210\n",
      "Epoch 91/100\n",
      "469/469 [==============================] - 3s 7ms/step - loss: 0.3957 - accuracy: 0.8905 - val_loss: 0.3326 - val_accuracy: 0.9190\n",
      "Epoch 92/100\n",
      "469/469 [==============================] - 3s 7ms/step - loss: 0.4041 - accuracy: 0.8892 - val_loss: 0.3395 - val_accuracy: 0.9184\n",
      "Epoch 93/100\n",
      "469/469 [==============================] - 4s 8ms/step - loss: 0.3945 - accuracy: 0.8918 - val_loss: 0.3328 - val_accuracy: 0.9198\n",
      "Epoch 94/100\n",
      "469/469 [==============================] - 4s 8ms/step - loss: 0.3923 - accuracy: 0.8921 - val_loss: 0.3293 - val_accuracy: 0.9199\n",
      "Epoch 95/100\n",
      "469/469 [==============================] - 3s 7ms/step - loss: 0.3996 - accuracy: 0.8889 - val_loss: 0.3351 - val_accuracy: 0.9210\n",
      "Epoch 96/100\n",
      "469/469 [==============================] - 3s 7ms/step - loss: 0.3969 - accuracy: 0.8920 - val_loss: 0.3318 - val_accuracy: 0.9195\n",
      "Epoch 97/100\n",
      "469/469 [==============================] - 3s 7ms/step - loss: 0.3946 - accuracy: 0.8917 - val_loss: 0.3287 - val_accuracy: 0.9211\n",
      "Epoch 98/100\n",
      "469/469 [==============================] - 4s 7ms/step - loss: 0.3943 - accuracy: 0.8910 - val_loss: 0.3350 - val_accuracy: 0.9206\n",
      "Epoch 99/100\n",
      "469/469 [==============================] - 4s 8ms/step - loss: 0.3926 - accuracy: 0.8931 - val_loss: 0.3377 - val_accuracy: 0.9207\n",
      "Epoch 100/100\n",
      "469/469 [==============================] - 3s 7ms/step - loss: 0.3940 - accuracy: 0.8917 - val_loss: 0.3323 - val_accuracy: 0.9212\n"
     ]
    }
   ],
   "source": [
    "history1 = model.fit(X_train,Y_train,validation_data = (X_test, Y_test),batch_size = 128 , epochs = 100)"
   ]
  },
  {
   "cell_type": "code",
   "execution_count": null,
   "id": "e946ce07",
   "metadata": {},
   "outputs": [],
   "source": []
  }
 ],
 "metadata": {
  "kernelspec": {
   "display_name": "Python 3",
   "language": "python",
   "name": "python3"
  },
  "language_info": {
   "codemirror_mode": {
    "name": "ipython",
    "version": 3
   },
   "file_extension": ".py",
   "mimetype": "text/x-python",
   "name": "python",
   "nbconvert_exporter": "python",
   "pygments_lexer": "ipython3",
   "version": "3.8.8"
  }
 },
 "nbformat": 4,
 "nbformat_minor": 5
}
